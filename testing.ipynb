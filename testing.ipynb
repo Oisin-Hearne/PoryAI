{
 "cells": [
  {
   "cell_type": "markdown",
   "metadata": {},
   "source": [
    "# Testing File\n",
    "---\n",
    "_This notebook is for testing new functionality before introducing it into the program._"
   ]
  },
  {
   "cell_type": "markdown",
   "metadata": {},
   "source": [
    "### Protocol\n",
    "---\n",
    "_Pokémon Showdown is accessible via websockets, so I can interact with the website from this file (sending messages, logging in, and so on)._\n",
    "_Found here: https://github.com/smogon/pokemon-showdown/blob/master/PROTOCOL.md_\n",
    "\n",
    "**Variables I'll need**:\n",
    "* Websocket UI\n",
    "* Username and Password\n",
    "* Format\n",
    "* Team to use (if applicable)"
   ]
  },
  {
   "cell_type": "code",
   "execution_count": 1,
   "metadata": {},
   "outputs": [],
   "source": [
    "import asyncio\n",
    "import websockets\n",
    "\n",
    "uri = \"wss://sim3.psim.us/showdown/websocket\"\n",
    "login-uri = \"https://play.pokemonshowdown.com/action.php\"\n",
    "testusername = \"thisisatest12345\"\n",
    "testpassword = \"password\" # very secure :)\n",
    "\n"
   ]
  }
 ],
 "metadata": {
  "kernelspec": {
   "display_name": "base",
   "language": "python",
   "name": "python3"
  },
  "language_info": {
   "codemirror_mode": {
    "name": "ipython",
    "version": 3
   },
   "file_extension": ".py",
   "mimetype": "text/x-python",
   "name": "python",
   "nbconvert_exporter": "python",
   "pygments_lexer": "ipython3",
   "version": "3.11.7"
  }
 },
 "nbformat": 4,
 "nbformat_minor": 2
}

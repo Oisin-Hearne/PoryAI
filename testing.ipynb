{
 "cells": [
  {
   "cell_type": "markdown",
   "metadata": {},
   "source": [
    "# Testing File\n",
    "---\n",
    "_This notebook is for testing new functionality before introducing it into the program._"
   ]
  },
  {
   "cell_type": "markdown",
   "metadata": {},
   "source": [
    "### Protocol\n",
    "---\n",
    "_Pokémon Showdown is accessible via websockets, so I can interact with the website from this file (sending messages, logging in, and so on)._\n",
    "_Found here: https://github.com/smogon/pokemon-showdown/blob/master/PROTOCOL.md_\n",
    "\n",
    "_This has been done before in python here: https://github.com/pmariglia/showdown/blob/master/showdown/websocket_client.py_\n",
    "\n",
    "**Variables I'll need**:\n",
    "* Websocket UI\n",
    "* Username and Password\n",
    "* Format\n",
    "* Team to use (if applicable)"
   ]
  },
  {
   "cell_type": "code",
   "execution_count": 10,
   "metadata": {},
   "outputs": [
    {
     "name": "stdout",
     "output_type": "stream",
     "text": [
      "<websockets.legacy.client.WebSocketClientProtocol object at 0x000001D895EAC2C0>\n",
      "4\n",
      "701a0c5b9aed9048a32ed575628da8ad35444b7cf1eaaf04fd143d04b37bbdc25a972764a37e8dda6a2de1af41d719ffe3e0a1305d3ce0c4040d9fbaa3f9b68684cc6f2a997b112c55d719778f1e7935938c3540f1360baaa49f97cc1939a1554b9290e4eeaa94d38126e07fe0b94b4f02e33ded2b52919f5f61933ac8072e24\n",
      "4|701a0c5b9aed9048a32ed575628da8ad35444b7cf1eaaf04fd143d04b37bbdc25a972764a37e8dda6a2de1af41d719ffe3e0a1305d3ce0c4040d9fbaa3f9b68684cc6f2a997b112c55d719778f1e7935938c3540f1360baaa49f97cc1939a1554b9290e4eeaa94d38126e07fe0b94b4f02e33ded2b52919f5f61933ac8072e24\n",
      "]{\"actionsuccess\":true,\"assertion\":\"701a0c5b9aed9048a32ed575628da8ad35444b7cf1eaaf04fd143d04b37bbdc25a972764a37e8dda6a2de1af41d719ffe3e0a1305d3ce0c4040d9fbaa3f9b68684cc6f2a997b112c55d719778f1e7935938c3540f1360baaa49f97cc1939a1554b9290e4eeaa94d38126e07fe0b94b4f02e33ded2b52919f5f61933ac8072e24,thisisatest12345,2,1730895984,sim3.psim.us,1f7cb6a3aa4ccea51730895984,b9ccdf14115f885f,;13906bbab871f372808dd2aae81f3f169555b91f5b16bbd206a041f56f07f1c1eef2e793af173d97714734e367ba4d038469af9071cdc8525d95075832baa372943d4e2af84a099345787d1c99cc324d3abaf4dad26856bfa3b658c121be89e4dc006db4ca452f93bbc0b6e431d77edb2b2a7d624f5dc5fdf923dc1127e61bbba4848071e6dd9867b07d9edcc81230e4ab521d9a88a55043f4d0269d2dea3c00de66243e547eba4af882321450fee777aacc86c2f6f0b5cd0639d0863a12b578fc3741a8acbc64ab7451207683b7eb888b8e9324f66e25a8b691e1fd163fefe7fdbc06ad29ddef3cf5635e03d46bd680b5aad883dd05fee5fa864cd97853a99f6cf456cd5f3af855b51d3c59cb603b23dc967f801074c198191d6f5d4366ea41003b4ee916358516c5e47eef91c29b7d493943509c59f51bb7904b9578b4c39d447dc0e45bcac28fecfa3f69f780be9ae0d24897b54531e36c969027671e1df9ed4946cf317bfc53355877d0e3ed46d32c6136c97b7fe6a2edad89620e70db4b1ec219699cd5fad4e295630778048dde5c611c467e87681b9db2b66f4affa0fc8bf18ff04956c61dbc56eb8321e6fcc84b28836a7ef8b3ed6952f4c0831fe406606fed4ba3fb1e77493e274448704b924b19e4eecbebcf630e5a77a31ff5212e57d087a9f2b1e48e0d6ce1b67f221d148b7e89649a2fb23b61d42d42ecfd2051\",\"curuser\":{\"loggedin\":true,\"username\":\"thisisatest12345\",\"userid\":\"thisisatest12345\"}}\n"
     ]
    }
   ],
   "source": [
    "import asyncio\n",
    "import websockets\n",
    "import requests\n",
    "\n",
    "uri = \"wss://sim3.psim.us/showdown/websocket\"\n",
    "loginuri = \"https://play.pokemonshowdown.com/action.php\"\n",
    "testusername = \"thisisatest12345\"\n",
    "testpassword = \"password\" # very secure :)\n",
    "\n",
    "socket = await websockets.connect(uri)\n",
    "print(socket)\n",
    "challid = 0\n",
    "challstr = \"\"\n",
    "i = True\n",
    "\n",
    "\n",
    "while(i):\n",
    "    received = await socket.recv()\n",
    "    print(received)\n",
    "\n",
    "    messages = received.split(\"|\")\n",
    "    if(messages[1] == \"challstr\"):\n",
    "        challid = messages[2]\n",
    "        challstr= messages[3]\n",
    "        i = False\n",
    "\n",
    "challstr = \"|\".join([challid, challstr])\n",
    "print(challstr)\n",
    "\n",
    "\n",
    "loggedIn = requests.post(\n",
    "    loginuri,\n",
    "    data={\n",
    "        \"act\": \"login\",\n",
    "        \"name\": testusername,\n",
    "        \"pass\": testpassword,\n",
    "        \"challstr\": challstr,\n",
    "    }\n",
    ")\n",
    "print(loggedIn.text)\n",
    "\n"
   ]
  }
 ],
 "metadata": {
  "kernelspec": {
   "display_name": "base",
   "language": "python",
   "name": "python3"
  },
  "language_info": {
   "codemirror_mode": {
    "name": "ipython",
    "version": 3
   },
   "file_extension": ".py",
   "mimetype": "text/x-python",
   "name": "python",
   "nbconvert_exporter": "python",
   "pygments_lexer": "ipython3",
   "version": "3.12.4"
  }
 },
 "nbformat": 4,
 "nbformat_minor": 2
}

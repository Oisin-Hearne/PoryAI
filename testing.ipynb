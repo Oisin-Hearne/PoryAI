{
 "cells": [
  {
   "cell_type": "markdown",
   "metadata": {},
   "source": [
    "# Testing File\n",
    "---\n",
    "_This notebook is for testing new functionality before introducing it into the program._"
   ]
  },
  {
   "cell_type": "markdown",
   "metadata": {},
   "source": [
    "### Protocol\n",
    "---\n",
    "_Pokémon Showdown is accessible via websockets, so I can interact with the website from this file (sending messages, logging in, and so on)._\n",
    "_Found here: https://github.com/smogon/pokemon-showdown/blob/master/PROTOCOL.md_\n",
    "\n",
    "_This has been done before in python here: https://github.com/pmariglia/showdown/blob/master/showdown/websocket_client.py_\n",
    "\n",
    "**Variables I'll need**:\n",
    "* Websocket UI\n",
    "* Username and Password\n",
    "* Format\n",
    "* Team to use (if applicable)"
   ]
  },
  {
   "cell_type": "code",
   "execution_count": null,
   "metadata": {},
   "outputs": [],
   "source": []
  },
  {
   "cell_type": "code",
   "execution_count": null,
   "metadata": {},
   "outputs": [],
   "source": [
    "import asyncio\n",
    "import websockets\n",
    "import requests\n",
    "import json\n",
    "import random\n",
    "\n",
    "# Global used for sending and receiving messages.\n",
    "socket = await websockets.connect(\"wss://sim3.psim.us/showdown/websocket\")\n",
    "\n",
    "# Connect to the Showdown server and log in.\n",
    "async def connectToShowdown(loginUri, testUsername, testPassword):\n",
    "    # challstr and chall id represent the current user token.\n",
    "    # we need to retrieve it from the showdown server. When not logged in,\n",
    "    # the server will send the user their challstr and challid whcih we receive below.\n",
    "    challid = 0\n",
    "    challstr = \"\"\n",
    "\n",
    "    while(challstr == \"\"):\n",
    "        received = await socket.recv()\n",
    "        msgs = received.split(\"|\")\n",
    "        if(msgs[1] == \"challstr\"):\n",
    "            challid = msgs[2]\n",
    "            challstr = msgs[3]\n",
    "\n",
    "    challstr = \"|\".join([challid, challstr]) # Join these together to form the token to be sent to the server\n",
    "\n",
    "    # HTTP Request \n",
    "    loggedIn = requests.post(\n",
    "        loginUri,\n",
    "        data={\n",
    "            \"act\": \"login\",\n",
    "            \"name\": testUsername,\n",
    "            \"pass\": testPassword,\n",
    "            \"challstr\": challstr,\n",
    "        }\n",
    "    )\n",
    "\n",
    "    # Finish logging in by grabbing the \"assertion\" given to us by showdown in JSON.\n",
    "    jsonOut = json.loads(loggedIn.text[1:])\n",
    "    await sendMessage(\"|/trn \"+testUsername+\",0,\"+jsonOut[\"assertion\"]+\"|\")\n",
    "\n",
    "async def sendMessage(message):\n",
    "    await socket.send([message])\n",
    "    return await socket.recv()\n",
    "\n",
    "\n",
    "# Join the queue by sending a search message in a specific format.\n",
    "# Returns a battle tag, used by other methods to specify what battle room to interact with.\n",
    "async def joinQueue(format):\n",
    "    received = await sendMessage(\"|/search \"+format+\"|\")\n",
    "\n",
    "    while True:\n",
    "        received = received.split(\"|\")\n",
    "        if 'battle' in received[0]:\n",
    "            return received[0][1:].strip()\n",
    "        received = await socket.recv()\n",
    "\n",
    "# Runs the battle logic. When the Model is implemented, will instead make calls to the model for what to do.\n",
    "# Should also send it the necessary battle info.\n",
    "async def manageBattle(battle_tag):\n",
    "    while True:\n",
    "        received = await socket.recv()\n",
    "        print(received)\n",
    "        msgs = received.split(\"|\")\n",
    "\n",
    "        # Check for a battle\n",
    "        if 'request' in msgs[1] and len(msgs[2]) > 9:\n",
    "            requestOutput = json.loads(msgs[2])\n",
    "\n",
    "            # Make a move\n",
    "            if 'active' in requestOutput:\n",
    "                randomMove = random.choice(requestOutput[\"active\"][0][\"moves\"])[\"id\"]\n",
    "                await socket.send(battle_tag+'|/choose move '+randomMove+\"|\"+str(requestOutput[\"rqid\"]))\n",
    "            # Mon has fainted - make a switch.\n",
    "            if 'forceSwitch' in requestOutput:\n",
    "                invalidMon = True\n",
    "            \n",
    "                while invalidMon:\n",
    "                    randomMon = random.randint(1,6)\n",
    "                    if(requestOutput[\"side\"][\"pokemon\"][randomMon][\"condition\"] != \"0 fnt\"):\n",
    "                        invalidMon = False\n",
    "                        await socket.send(battle_tag+'|/choose switch '+randomMon+\"|\"+str(requestOutput[\"rqid\"]))\n",
    "\n",
    "        "
   ]
  },
  {
   "cell_type": "code",
   "execution_count": 9,
   "metadata": {},
   "outputs": [
    {
     "ename": "AttributeError",
     "evalue": "'coroutine' object has no attribute 'split'",
     "output_type": "error",
     "traceback": [
      "\u001b[1;31m---------------------------------------------------------------------------\u001b[0m",
      "\u001b[1;31mAttributeError\u001b[0m                            Traceback (most recent call last)",
      "Cell \u001b[1;32mIn[9], line 3\u001b[0m\n\u001b[0;32m      1\u001b[0m \u001b[38;5;28;01mawait\u001b[39;00m connectToShowdown(\u001b[38;5;124m\"\u001b[39m\u001b[38;5;124mhttps://play.pokemonshowdown.com/action.php\u001b[39m\u001b[38;5;124m\"\u001b[39m, \u001b[38;5;124m\"\u001b[39m\u001b[38;5;124mthisisatest12345\u001b[39m\u001b[38;5;124m\"\u001b[39m, \u001b[38;5;124m\"\u001b[39m\u001b[38;5;124mpassword\u001b[39m\u001b[38;5;124m\"\u001b[39m)\n\u001b[0;32m      2\u001b[0m tag \u001b[38;5;241m=\u001b[39m \u001b[38;5;28;01mawait\u001b[39;00m joinQueue(\u001b[38;5;124m\"\u001b[39m\u001b[38;5;124mgen9randombattle\u001b[39m\u001b[38;5;124m\"\u001b[39m)\n\u001b[1;32m----> 3\u001b[0m \u001b[38;5;28;01mawait\u001b[39;00m manageBattle(tag)\n",
      "Cell \u001b[1;32mIn[8], line 62\u001b[0m, in \u001b[0;36mmanageBattle\u001b[1;34m(battle_tag)\u001b[0m\n\u001b[0;32m     60\u001b[0m \u001b[38;5;28;01masync\u001b[39;00m \u001b[38;5;28;01mdef\u001b[39;00m \u001b[38;5;21mmanageBattle\u001b[39m(battle_tag):\n\u001b[0;32m     61\u001b[0m     \u001b[38;5;28;01mwhile\u001b[39;00m \u001b[38;5;28;01mTrue\u001b[39;00m:\n\u001b[1;32m---> 62\u001b[0m         msgs \u001b[38;5;241m=\u001b[39m \u001b[38;5;28;01mawait\u001b[39;00m socket\u001b[38;5;241m.\u001b[39mrecv()\u001b[38;5;241m.\u001b[39msplit(\u001b[38;5;124m\"\u001b[39m\u001b[38;5;124m|\u001b[39m\u001b[38;5;124m\"\u001b[39m)\n\u001b[0;32m     64\u001b[0m         \u001b[38;5;66;03m# Check for a battle\u001b[39;00m\n\u001b[0;32m     65\u001b[0m         \u001b[38;5;28;01mif\u001b[39;00m \u001b[38;5;124m'\u001b[39m\u001b[38;5;124mrequest\u001b[39m\u001b[38;5;124m'\u001b[39m \u001b[38;5;129;01min\u001b[39;00m msgs[\u001b[38;5;241m1\u001b[39m] \u001b[38;5;129;01mand\u001b[39;00m \u001b[38;5;28mlen\u001b[39m(msgs[\u001b[38;5;241m2\u001b[39m]) \u001b[38;5;241m>\u001b[39m \u001b[38;5;241m9\u001b[39m:\n",
      "\u001b[1;31mAttributeError\u001b[0m: 'coroutine' object has no attribute 'split'"
     ]
    }
   ],
   "source": [
    "await connectToShowdown(\"https://play.pokemonshowdown.com/action.php\", \"thisisatest12345\", \"password\")\n",
    "tag = await joinQueue(\"gen9randombattle\")\n",
    "await manageBattle(tag)"
   ]
  }
 ],
 "metadata": {
  "kernelspec": {
   "display_name": "base",
   "language": "python",
   "name": "python3"
  },
  "language_info": {
   "codemirror_mode": {
    "name": "ipython",
    "version": 3
   },
   "file_extension": ".py",
   "mimetype": "text/x-python",
   "name": "python",
   "nbconvert_exporter": "python",
   "pygments_lexer": "ipython3",
   "version": "3.11.7"
  }
 },
 "nbformat": 4,
 "nbformat_minor": 2
}

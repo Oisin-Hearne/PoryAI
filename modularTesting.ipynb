{
 "cells": [
  {
   "cell_type": "code",
   "execution_count": 1,
   "metadata": {},
   "outputs": [],
   "source": [
    "import showdown\n",
    "import concurrent.futures\n",
    "import asyncio"
   ]
  },
  {
   "cell_type": "code",
   "execution_count": 2,
   "metadata": {},
   "outputs": [
    {
     "name": "stdout",
     "output_type": "stream",
     "text": [
      "looking for battle PoryAI-4\n",
      "looking for battle PoryAI-9\n",
      "looking for battle PoryAI-2\n",
      "looking for battle PoryAI-6\n",
      "looking for battle PoryAI-3\n",
      "looking for battle PoryAI-8\n",
      "looking for battle PoryAI-17\n",
      "looking for battle PoryAI-5\n",
      "looking for battle PoryAI-13\n",
      "looking for battle PoryAI-15\n",
      "looking for battle PoryAI-12\n",
      "looking for battle PoryAI-0\n",
      "looking for battle PoryAI-14\n",
      "looking for battle PoryAI-7\n",
      "looking for battle PoryAI-1\n",
      "looking for battle PoryAI-11\n",
      "TURN ['|upkeep']PoryAI-4\n",
      "looking for battle PoryAI-18\n",
      "looking for battle PoryAI-10\n",
      "looking for battle PoryAI-16\n",
      "looking for battle PoryAI-19\n",
      "TURN ['|turn|3']PoryAI-9\n"
     ]
    },
    {
     "name": "stderr",
     "output_type": "stream",
     "text": [
      "  + Exception Group Traceback (most recent call last):\n",
      "  |   File \"c:\\Users\\oisin\\anaconda3\\Lib\\site-packages\\IPython\\core\\interactiveshell.py\", line 3551, in run_code\n",
      "  |     await eval(code_obj, self.user_global_ns, self.user_ns)\n",
      "  |   File \"C:\\Users\\oisin\\AppData\\Local\\Temp\\ipykernel_20700\\1171506037.py\", line 3, in <module>\n",
      "  |     async with asyncio.TaskGroup() as tg:\n",
      "  |   File \"c:\\Users\\oisin\\anaconda3\\Lib\\asyncio\\taskgroups.py\", line 145, in __aexit__\n",
      "  |     raise me from None\n",
      "  | ExceptionGroup: unhandled errors in a TaskGroup (2 sub-exceptions)\n",
      "  +-+---------------- 1 ----------------\n",
      "    | Traceback (most recent call last):\n",
      "    |   File \"d:\\Project2024\\PoryAI\\showdown.py\", line 143, in run\n",
      "    |     await self.manageBattle(battleTag)\n",
      "    |   File \"d:\\Project2024\\PoryAI\\showdown.py\", line 125, in manageBattle\n",
      "    |     self.inter.updateTurnState(turnContent)\n",
      "    |   File \"d:\\Project2024\\PoryAI\\interpreter.py\", line 168, in updateTurnState\n",
      "    |     if self.state[\"opposingSide\"][\"activeMon\"][\"moves\"][move][\"id\"] == self.moveData[moveUsed][\"id\"]:\n",
      "    |        ~~~~~~~~~~~~~~~~~~~~~~~~~~~~~~~~~~~~~~~~~~~~~~~~^^^^^^\n",
      "    | TypeError: list indices must be integers or slices, not dict\n",
      "    +---------------- 2 ----------------\n",
      "    | Traceback (most recent call last):\n",
      "    |   File \"d:\\Project2024\\PoryAI\\showdown.py\", line 143, in run\n",
      "    |     await self.manageBattle(battleTag)\n",
      "    |   File \"d:\\Project2024\\PoryAI\\showdown.py\", line 125, in manageBattle\n",
      "    |     self.inter.updateTurnState(turnContent)\n",
      "    |   File \"d:\\Project2024\\PoryAI\\interpreter.py\", line 168, in updateTurnState\n",
      "    |     if self.state[\"opposingSide\"][\"activeMon\"][\"moves\"][move][\"id\"] == self.moveData[moveUsed][\"id\"]:\n",
      "    |        ~~~~~~~~~~~~~~~~~~~~~~~~~~~~~~~~~~~~~~~~~~~~~~~~^^^^^^\n",
      "    | TypeError: list indices must be integers or slices, not dict\n",
      "    +------------------------------------\n"
     ]
    }
   ],
   "source": [
    "sd = showdown.Showdown(\"https://play.pokemonshowdown.com/action.php\", \"thisisatest12345\", \"password\", \"ws://localhost:8000/showdown/websocket\", \"gen9randombattle\")\n",
    "tasks = set()\n",
    "async with asyncio.TaskGroup() as tg:\n",
    "    for i in range(20):\n",
    "        sd = showdown.Showdown(\"https://play.pokemonshowdown.com/action.php\", \"PoryAI-\"+str(i), \"password\", \"ws://localhost:8000/showdown/websocket\", \"gen9randombattle\")\n",
    "        task = tg.create_task(sd.run())\n",
    "        tasks.add(task)\n",
    "\n",
    "await asyncio.gather(*tg.tasks)\n",
    "\n",
    "await sd.run()\n",
    "# TOOD\n",
    "# - Squeeze way more performance out of this\n",
    "# - AAAAAAAAAAAAAAAAAAAA \n",
    "# - Dissertation?\n"
   ]
  }
 ],
 "metadata": {
  "kernelspec": {
   "display_name": "base",
   "language": "python",
   "name": "python3"
  },
  "language_info": {
   "codemirror_mode": {
    "name": "ipython",
    "version": 3
   },
   "file_extension": ".py",
   "mimetype": "text/x-python",
   "name": "python",
   "nbconvert_exporter": "python",
   "pygments_lexer": "ipython3",
   "version": "3.11.7"
  }
 },
 "nbformat": 4,
 "nbformat_minor": 2
}

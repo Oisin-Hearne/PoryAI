{
 "cells": [
  {
   "cell_type": "code",
   "execution_count": null,
   "metadata": {},
   "outputs": [],
   "source": [
    "import showdown\n",
    "import agent\n",
    "import training\n",
    "import torch\n",
    "import json"
   ]
  },
  {
   "cell_type": "code",
   "execution_count": null,
   "metadata": {},
   "outputs": [],
   "source": [
    "stateSize = 671\n",
    "\n",
    "possibleActions = json.load(open(\"data/possible_actions.json\", \"r\"))\n",
    "actionSize = len(possibleActions)\n",
    "device = torch.device(\"cuda\" if torch.cuda.is_available() else \"cpu\")\n",
    "agent1 = agent.Agent(stateSize, actionSize, device, possibleActions)\n",
    "#agent2 = agent.Agent(stateSize, actionSize, device, possibleActions)\n",
    "\n",
    "sd1 = showdown.Showdown(\"https://play.pokemonshowdown.com/action.php\", \"PoryAI-0\", \"Change This!\", \"wss://sim3.psim.us/showdown/websocket\", \"gen9randombattle\", False, True, \"\", True)\n",
    "#sd2 = showdown.Showdown(\"https://play.pokemonshowdown.com/action.php\", \"PoryAI-2\", \"password\", \"ws://localhost:8000/showdown/websocket\", \"gen9randombattle\", False, False, \"PoryAI-1\")\n",
    "\n",
    "await sd1.connectToShowdown()\n",
    "#await sd2.connectNoSecurity()\n",
    "trainer = training.Trainer([agent1], [sd1], stateSize, actionSize, 20000, 50)\n",
    "await trainer.run()"
   ]
  }
 ],
 "metadata": {
  "kernelspec": {
   "display_name": "base",
   "language": "python",
   "name": "python3"
  },
  "language_info": {
   "codemirror_mode": {
    "name": "ipython",
    "version": 3
   },
   "file_extension": ".py",
   "mimetype": "text/x-python",
   "name": "python",
   "nbconvert_exporter": "python",
   "pygments_lexer": "ipython3",
   "version": "3.11.7"
  }
 },
 "nbformat": 4,
 "nbformat_minor": 2
}

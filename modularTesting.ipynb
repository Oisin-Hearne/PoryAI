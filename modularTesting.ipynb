{
 "cells": [
  {
   "cell_type": "code",
   "execution_count": 1,
   "metadata": {},
   "outputs": [],
   "source": [
    "import showdown"
   ]
  },
  {
   "cell_type": "code",
   "execution_count": null,
   "metadata": {},
   "outputs": [
    {
     "name": "stdout",
     "output_type": "stream",
     "text": [
      "|updateuser| thisisatest12345|1|265|{\"blockChallenges\":false,\"blockPMs\":false,\"ignoreTickets\":false,\"hideBattlesFromTrainerCard\":false,\"blockInvites\":false,\"doNotDisturb\":false,\"blockFriendRequests\":false,\"allowFriendNotifications\":false,\"displayBattlesToFriends\":false,\"hideLogins\":false,\"hiddenNextBattle\":false,\"inviteOnlyNextBattle\":false,\"language\":null}\n",
      "|updatesearch|{\"searching\":[],\"games\":{\"battle-gen9randombattle-1\":\"[Gen 9] Random Battle\"}}\n",
      ">battle-gen9randombattle-1\n",
      "|init|battle\n",
      "|title|PrimalCyndaquil vs. thisisatest12345\n",
      "|j|☆PrimalCyndaquil\n",
      "|j|☆thisisatest12345\n",
      "|t:|1740133950\n",
      "|gametype|singles\n",
      "|player|p1|PrimalCyndaquil|265|\n",
      "|player|p2|thisisatest12345|265|\n",
      "|teamsize|p1|6\n",
      "|teamsize|p2|6\n",
      "|gen|9\n",
      "|tier|[Gen 9] Random Battle\n",
      "|rule|Species Clause: Limit one of each Pokémon\n",
      "|rule|HP Percentage Mod: HP is shown in percentages\n",
      "|rule|Sleep Clause Mod: Limit one foe put to sleep\n",
      "|rule|Illusion Level Mod: Illusion disguises the Pokémon's true level\n",
      "|\n",
      "|t:|1740133951\n",
      "|start\n",
      "|switch|p1a: Grimmsnarl|Grimmsnarl, L83, M|100/100\n",
      "|switch|p2a: Lumineon|Lumineon, L93, F|279/279\n",
      "|turn|1\n",
      "|l|☆thisisatest12345\n",
      "|player|p2|\n",
      "|j|☆thisisatest12345\n",
      "|player|p2|thisisatest12345|265|\n",
      "|l|☆thisisatest12345\n",
      "|player|p2|\n",
      "|j|☆thisisatest12345\n",
      "|player|p2|thisisatest12345|265|\n",
      "|l|☆thisisatest12345\n",
      "|player|p2|\n",
      "|j|☆thisisatest12345\n",
      "|player|p2|thisisatest12345|265|\n",
      "\n",
      "['>battle-gen9randombattle-1\\n', 'request', '{\"active\":[{\"moves\":[{\"move\":\"Hydro Pump\",\"id\":\"hydropump\",\"pp\":8,\"maxpp\":8,\"target\":\"normal\",\"disabled\":false},{\"move\":\"Ice Beam\",\"id\":\"icebeam\",\"pp\":16,\"maxpp\":16,\"target\":\"normal\",\"disabled\":false},{\"move\":\"U-turn\",\"id\":\"uturn\",\"pp\":32,\"maxpp\":32,\"target\":\"normal\",\"disabled\":false},{\"move\":\"Encore\",\"id\":\"encore\",\"pp\":8,\"maxpp\":8,\"target\":\"normal\",\"disabled\":false}],\"canTerastallize\":\"Water\"}],\"side\":{\"name\":\"thisisatest12345\",\"id\":\"p2\",\"pokemon\":[{\"ident\":\"p2: Lumineon\",\"details\":\"Lumineon, L93, F\",\"condition\":\"279/279\",\"active\":true,\"stats\":{\"atk\":181,\"def\":194,\"spa\":181,\"spd\":213,\"spe\":222},\"moves\":[\"hydropump\",\"icebeam\",\"uturn\",\"encore\"],\"baseAbility\":\"stormdrain\",\"item\":\"heavydutyboots\",\"pokeball\":\"pokeball\",\"ability\":\"stormdrain\",\"commanding\":false,\"reviving\":false,\"teraType\":\"Water\",\"terastallized\":\"\"},{\"ident\":\"p2: Jolteon\",\"details\":\"Jolteon, L84, M\",\"condition\":\"246/246\",\"active\":false,\"stats\":{\"atk\":114,\"def\":149,\"spa\":233,\"spd\":208,\"spe\":267},\"moves\":[\"thunderbolt\",\"alluringvoice\",\"shadowball\",\"voltswitch\"],\"baseAbility\":\"voltabsorb\",\"item\":\"choicespecs\",\"pokeball\":\"pokeball\",\"ability\":\"voltabsorb\",\"commanding\":false,\"reviving\":false,\"teraType\":\"Fairy\",\"terastallized\":\"\"},{\"ident\":\"p2: Zebstrika\",\"details\":\"Zebstrika, L87, F\",\"condition\":\"272/272\",\"active\":false,\"stats\":{\"atk\":224,\"def\":159,\"spa\":189,\"spd\":159,\"spe\":252},\"moves\":[\"highhorsepower\",\"voltswitch\",\"overheat\",\"supercellslam\"],\"baseAbility\":\"sapsipper\",\"item\":\"lifeorb\",\"pokeball\":\"pokeball\",\"ability\":\"sapsipper\",\"commanding\":false,\"reviving\":false,\"teraType\":\"Ground\",\"terastallized\":\"\"},{\"ident\":\"p2: Tinkaton\",\"details\":\"Tinkaton, L82, F\",\"condition\":\"274/274\",\"active\":false,\"stats\":{\"atk\":170,\"def\":173,\"spa\":162,\"spd\":219,\"spe\":201},\"moves\":[\"encore\",\"gigatonhammer\",\"playrough\",\"thunderwave\"],\"baseAbility\":\"moldbreaker\",\"item\":\"leftovers\",\"pokeball\":\"pokeball\",\"ability\":\"moldbreaker\",\"commanding\":false,\"reviving\":false,\"teraType\":\"Water\",\"terastallized\":\"\"},{\"ident\":\"p2: Scream Tail\",\"details\":\"Scream Tail, L84\",\"condition\":\"330/330\",\"active\":false,\"stats\":{\"atk\":114,\"def\":215,\"spa\":157,\"spd\":241,\"spe\":235},\"moves\":[\"protect\",\"dazzlinggleam\",\"encore\",\"wish\"],\"baseAbility\":\"protosynthesis\",\"item\":\"leftovers\",\"pokeball\":\"pokeball\",\"ability\":\"protosynthesis\",\"commanding\":false,\"reviving\":false,\"teraType\":\"Poison\",\"terastallized\":\"\"},{\"ident\":\"p2: Luvdisc\",\"details\":\"Luvdisc, F\",\"condition\":\"247/247\",\"active\":false,\"stats\":{\"atk\":65,\"def\":167,\"spa\":137,\"spd\":187,\"spe\":251},\"moves\":[\"endeavor\",\"whirlpool\",\"substitute\",\"surf\"],\"baseAbility\":\"swiftswim\",\"item\":\"heavydutyboots\",\"pokeball\":\"pokeball\",\"ability\":\"swiftswim\",\"commanding\":false,\"reviving\":false,\"teraType\":\"Ground\",\"terastallized\":\"\"}]},\"rqid\":3}']\n"
     ]
    },
    {
     "ename": "KeyError",
     "evalue": "'choicespecs'",
     "output_type": "error",
     "traceback": [
      "\u001b[1;31m---------------------------------------------------------------------------\u001b[0m",
      "\u001b[1;31mKeyError\u001b[0m                                  Traceback (most recent call last)",
      "Cell \u001b[1;32mIn[2], line 2\u001b[0m\n\u001b[0;32m      1\u001b[0m sd \u001b[38;5;241m=\u001b[39m showdown\u001b[38;5;241m.\u001b[39mShowdown(\u001b[38;5;124m\"\u001b[39m\u001b[38;5;124mhttps://play.pokemonshowdown.com/action.php\u001b[39m\u001b[38;5;124m\"\u001b[39m, \u001b[38;5;124m\"\u001b[39m\u001b[38;5;124mthisisatest12345\u001b[39m\u001b[38;5;124m\"\u001b[39m, \u001b[38;5;124m\"\u001b[39m\u001b[38;5;124mpassword\u001b[39m\u001b[38;5;124m\"\u001b[39m, \u001b[38;5;124m\"\u001b[39m\u001b[38;5;124mws://localhost:8000/showdown/websocket\u001b[39m\u001b[38;5;124m\"\u001b[39m, \u001b[38;5;124m\"\u001b[39m\u001b[38;5;124mgen9randombattle\u001b[39m\u001b[38;5;124m\"\u001b[39m)\n\u001b[1;32m----> 2\u001b[0m \u001b[38;5;28;01mawait\u001b[39;00m sd\u001b[38;5;241m.\u001b[39mrun()\n",
      "File \u001b[1;32mc:\\Users\\oisin\\Documents\\Project2024\\PoryAI\\showdown.py:123\u001b[0m, in \u001b[0;36mShowdown.run\u001b[1;34m(self)\u001b[0m\n\u001b[0;32m    121\u001b[0m \u001b[38;5;28;01mawait\u001b[39;00m \u001b[38;5;28mself\u001b[39m\u001b[38;5;241m.\u001b[39mconnectToShowdown()\n\u001b[0;32m    122\u001b[0m battleTag \u001b[38;5;241m=\u001b[39m \u001b[38;5;28;01mawait\u001b[39;00m \u001b[38;5;28mself\u001b[39m\u001b[38;5;241m.\u001b[39mjoinQueue(\u001b[38;5;28mself\u001b[39m\u001b[38;5;241m.\u001b[39mformat)\n\u001b[1;32m--> 123\u001b[0m \u001b[38;5;28;01mawait\u001b[39;00m \u001b[38;5;28mself\u001b[39m\u001b[38;5;241m.\u001b[39mmanageBattle(battleTag)\n",
      "File \u001b[1;32mc:\\Users\\oisin\\Documents\\Project2024\\PoryAI\\showdown.py:95\u001b[0m, in \u001b[0;36mShowdown.manageBattle\u001b[1;34m(self, battleTag)\u001b[0m\n\u001b[0;32m     93\u001b[0m requestOutput \u001b[38;5;241m=\u001b[39m json\u001b[38;5;241m.\u001b[39mloads(msgs[\u001b[38;5;241m2\u001b[39m])\n\u001b[0;32m     94\u001b[0m \u001b[38;5;28;01mif\u001b[39;00m \u001b[38;5;124m'\u001b[39m\u001b[38;5;124mactive\u001b[39m\u001b[38;5;124m'\u001b[39m \u001b[38;5;129;01min\u001b[39;00m requestOutput:\n\u001b[1;32m---> 95\u001b[0m     \u001b[38;5;28mself\u001b[39m\u001b[38;5;241m.\u001b[39minter\u001b[38;5;241m.\u001b[39mupdateStateActive(requestOutput)\n\u001b[0;32m     96\u001b[0m \u001b[38;5;28;01melif\u001b[39;00m \u001b[38;5;124m'\u001b[39m\u001b[38;5;124mwait\u001b[39m\u001b[38;5;124m'\u001b[39m \u001b[38;5;129;01min\u001b[39;00m requestOutput \u001b[38;5;129;01mor\u001b[39;00m \u001b[38;5;124m'\u001b[39m\u001b[38;5;124mforceSwitch\u001b[39m\u001b[38;5;124m'\u001b[39m \u001b[38;5;129;01min\u001b[39;00m requestOutput:\n\u001b[0;32m     97\u001b[0m     \u001b[38;5;28mself\u001b[39m\u001b[38;5;241m.\u001b[39minter\u001b[38;5;241m.\u001b[39mupdateStateNoActive(requestOutput)\n",
      "File \u001b[1;32mc:\\Users\\oisin\\Documents\\Project2024\\PoryAI\\interpreter.py:80\u001b[0m, in \u001b[0;36mInterpreter.updateStateActive\u001b[1;34m(self, newState)\u001b[0m\n\u001b[0;32m     78\u001b[0m \u001b[38;5;66;03m# Ability and item fetched from abilityData and itemData\u001b[39;00m\n\u001b[0;32m     79\u001b[0m \u001b[38;5;28mself\u001b[39m\u001b[38;5;241m.\u001b[39mstate[\u001b[38;5;124m\"\u001b[39m\u001b[38;5;124mplayerSide\u001b[39m\u001b[38;5;124m\"\u001b[39m][\u001b[38;5;124m\"\u001b[39m\u001b[38;5;124mreserves\u001b[39m\u001b[38;5;124m\"\u001b[39m][poke\u001b[38;5;241m-\u001b[39m\u001b[38;5;241m1\u001b[39m][\u001b[38;5;124m\"\u001b[39m\u001b[38;5;124mability\u001b[39m\u001b[38;5;124m\"\u001b[39m] \u001b[38;5;241m=\u001b[39m \u001b[38;5;28mself\u001b[39m\u001b[38;5;241m.\u001b[39mabilityData[pokeAbility]\n\u001b[1;32m---> 80\u001b[0m \u001b[38;5;28mself\u001b[39m\u001b[38;5;241m.\u001b[39mstate[\u001b[38;5;124m\"\u001b[39m\u001b[38;5;124mplayerSide\u001b[39m\u001b[38;5;124m\"\u001b[39m][\u001b[38;5;124m\"\u001b[39m\u001b[38;5;124mreserves\u001b[39m\u001b[38;5;124m\"\u001b[39m][poke\u001b[38;5;241m-\u001b[39m\u001b[38;5;241m1\u001b[39m][\u001b[38;5;124m\"\u001b[39m\u001b[38;5;124mitem\u001b[39m\u001b[38;5;124m\"\u001b[39m] \u001b[38;5;241m=\u001b[39m \u001b[38;5;28mself\u001b[39m\u001b[38;5;241m.\u001b[39mitemData[pokeItem]\n\u001b[0;32m     82\u001b[0m \u001b[38;5;28;01mfor\u001b[39;00m move \u001b[38;5;129;01min\u001b[39;00m \u001b[38;5;28mrange\u001b[39m(\u001b[38;5;28mlen\u001b[39m(pokeMoves)): \u001b[38;5;66;03m# Moves fetched from moveData\u001b[39;00m\n\u001b[0;32m     83\u001b[0m     \u001b[38;5;28mself\u001b[39m\u001b[38;5;241m.\u001b[39mstate[\u001b[38;5;124m\"\u001b[39m\u001b[38;5;124mplayerSide\u001b[39m\u001b[38;5;124m\"\u001b[39m][\u001b[38;5;124m\"\u001b[39m\u001b[38;5;124mreserves\u001b[39m\u001b[38;5;124m\"\u001b[39m][poke\u001b[38;5;241m-\u001b[39m\u001b[38;5;241m1\u001b[39m][\u001b[38;5;124m\"\u001b[39m\u001b[38;5;124mmoves\u001b[39m\u001b[38;5;124m\"\u001b[39m][move] \u001b[38;5;241m=\u001b[39m \u001b[38;5;28mself\u001b[39m\u001b[38;5;241m.\u001b[39mmoveData[pokeMoves[move]]\n",
      "\u001b[1;31mKeyError\u001b[0m: 'choicespecs'"
     ]
    }
   ],
   "source": [
    "sd = showdown.Showdown(\"https://play.pokemonshowdown.com/action.php\", \"thisisatest12345\", \"password\", \"ws://localhost:8000/showdown/websocket\", \"gen9randombattle\")\n",
    "await sd.run()\n",
    "# TOOD\n",
    "# - Download Showdown Server\n",
    "# - Get batles running on local showdown server vs pmarglia's bot. (\"ws://localhost:8000/showdown/websocket\")\n",
    "# - AAAAAAAAAAAAAAAAAAAA \n",
    "# - Dissertation?\n",
    "# - Fix missing item data"
   ]
  }
 ],
 "metadata": {
  "kernelspec": {
   "display_name": "base",
   "language": "python",
   "name": "python3"
  },
  "language_info": {
   "codemirror_mode": {
    "name": "ipython",
    "version": 3
   },
   "file_extension": ".py",
   "mimetype": "text/x-python",
   "name": "python",
   "nbconvert_exporter": "python",
   "pygments_lexer": "ipython3",
   "version": "3.12.4"
  }
 },
 "nbformat": 4,
 "nbformat_minor": 2
}

{
 "cells": [
  {
   "cell_type": "code",
   "execution_count": 1,
   "metadata": {},
   "outputs": [],
   "source": [
    "import showdown\n",
    "import agent\n",
    "import training\n",
    "import torch\n",
    "import json"
   ]
  },
  {
   "cell_type": "code",
   "execution_count": null,
   "metadata": {},
   "outputs": [],
   "source": [
    "\n",
    "# device = torch.device(\"cuda\" if torch.cuda.is_available() else \"cpu\")\n",
    "\n",
    "\n",
    "# agent1 = agent.Agent(stateSize, actionSize, device, possibleActions)\n",
    "# agent2 = agent.Agent(stateSize, actionSize, device, possibleActions)\n",
    "# agent1.loadModel(\"data/models/model_9950.pt\")\n",
    "# agent1.loadMemory(\"data/memory/memory_9950.json\")\n",
    "\n",
    "# sd1 = showdown.Showdown(\"https://play.pokemonshowdown.com/action.php\", \"PoryAI-1\", \"password\", \"ws://localhost:8000/showdown/websocket\", \"gen9randombattle\", True, True)\n",
    "# sd2 = showdown.Showdown(\"https://play.pokemonshowdown.com/action.php\", \"PoryAI-2\", \"password\", \"ws://localhost:8000/showdown/websocket\", \"gen9randombattle\", False, False)\n",
    "# await sd1.connectNoSecurity()\n",
    "# await sd2.connectNoSecurity()\n",
    "# await training_loop(agent1, agent2, sd1, sd2, 10000)\n",
    "\n",
    "stateSize = 671\n",
    "\n",
    "possibleActions = json.load(open(\"data/possible_actions.json\", \"r\"))\n",
    "actionSize = len(possibleActions)\n",
    "\n",
    "device = torch.device(\"cuda\" if torch.cuda.is_available() else \"cpu\")\n",
    "agent1 = agent.Agent(stateSize, actionSize, device, possibleActions)\n",
    "\n",
    "sd1 = showdown.Showdown(\"https://play.pokemonshowdown.com/action.php\", \"PoryAI-1\", \"password\", \"ws://localhost:8000/showdown/websocket\", \"gen9randombattle\", True, True, \"FoulPlay-0\")\n",
    "\n",
    "await sd1.connectNoSecurity()\n",
    "\n",
    "trainer = training.Trainer([agent1], [sd1], stateSize, actionSize, 10000, 9950)\n",
    "await trainer.run()"
   ]
  }
 ],
 "metadata": {
  "kernelspec": {
   "display_name": "base",
   "language": "python",
   "name": "python3"
  },
  "language_info": {
   "codemirror_mode": {
    "name": "ipython",
    "version": 3
   },
   "file_extension": ".py",
   "mimetype": "text/x-python",
   "name": "python",
   "nbconvert_exporter": "python",
   "pygments_lexer": "ipython3",
   "version": "3.11.7"
  }
 },
 "nbformat": 4,
 "nbformat_minor": 2
}

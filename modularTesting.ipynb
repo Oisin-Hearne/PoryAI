{
 "cells": [
  {
   "cell_type": "code",
   "execution_count": null,
   "metadata": {},
   "outputs": [],
   "source": [
    "import showdown\n",
    "import concurrent.futures\n",
    "import asyncio"
   ]
  },
  {
   "cell_type": "code",
   "execution_count": null,
   "metadata": {},
   "outputs": [],
   "source": [
    "sd = showdown.Showdown(\"https://play.pokemonshowdown.com/action.php\", \"thisisatest12345\", \"password\", \"ws://localhost:8000/showdown/websocket\", \"gen9randombattle\")\n",
    "tasks = set()\n",
    "async with asyncio.TaskGroup() as tg:\n",
    "    for i in range(20):\n",
    "        sd = showdown.Showdown(\"https://play.pokemonshowdown.com/action.php\", \"PoryAI-\"+str(i), \"password\", \"ws://localhost:8000/showdown/websocket\", \"gen9randombattle\")\n",
    "        task = tg.create_task(sd.run())\n",
    "        tasks.add(task)\n",
    "\n",
    "await asyncio.gather(*tg.tasks)\n",
    "\n",
    "#await sd.run()\n",
    "# TOOD\n",
    "# - Squeeze way more performance out of this\n",
    "# - AAAAAAAAAAAAAAAAAAAA \n",
    "# - Dissertation?\n"
   ]
  },
  {
   "cell_type": "code",
   "execution_count": null,
   "metadata": {},
   "outputs": [],
   "source": []
  }
 ],
 "metadata": {
  "kernelspec": {
   "display_name": "base",
   "language": "python",
   "name": "python3"
  },
  "language_info": {
   "codemirror_mode": {
    "name": "ipython",
    "version": 3
   },
   "file_extension": ".py",
   "mimetype": "text/x-python",
   "name": "python",
   "nbconvert_exporter": "python",
   "pygments_lexer": "ipython3",
   "version": "3.11.7"
  }
 },
 "nbformat": 4,
 "nbformat_minor": 2
}

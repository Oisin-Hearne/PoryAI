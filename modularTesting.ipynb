{
 "cells": [
  {
   "cell_type": "code",
   "execution_count": null,
   "metadata": {},
   "outputs": [],
   "source": [
    "import showdown\n",
    "import agent\n",
    "import asyncio\n",
    "import torch\n",
    "import json"
   ]
  },
  {
   "cell_type": "code",
   "execution_count": null,
   "metadata": {},
   "outputs": [],
   "source": [
    "async def training_loop(agent, showdown, numBattles=1000):\n",
    "    for battle in range(numBattles):\n",
    "        \n",
    "        \n",
    "        await showdown.restart()\n",
    "        battleDone = False\n",
    "        totalReward = 0\n",
    "        \n",
    "        while not battleDone:\n",
    "            state = showdown.getState()\n",
    "            \n",
    "            validActions = showdown.getValidActions()\n",
    "            action = agent.act(state, validActions)\n",
    "            nextState, reward, battleDone = await showdown.executeAction(action)\n",
    "            print(f\"Action: {action}, Reward: {reward}\")\n",
    "            \n",
    "            agent.remember(state, action, reward, nextState, battleDone)\n",
    "            agent.replay()\n",
    "            totalReward += reward\n",
    "            \n",
    "            if battleDone:\n",
    "                print(f\"Battle {battle} done. Total reward: {totalReward}\")\n",
    "                \n",
    "        \n",
    "    if battle % 100 == 0:\n",
    "        agent.saveModel(f\"model_{battle}.pt\")"
   ]
  },
  {
   "cell_type": "code",
   "execution_count": null,
   "metadata": {},
   "outputs": [],
   "source": [
    "device = torch.device(\"cuda\" if torch.cuda.is_available() else \"cpu\")\n",
    "stateSize = 647\n",
    "\n",
    "possibleActions = json.load(open(\"data/possible_actions.json\", \"r\"))\n",
    "actionSize = len(possibleActions)\n",
    "\n",
    "newAgent = agent.Agent(stateSize, actionSize, device, possibleActions)\n",
    "\n",
    "showdown = showdown.Showdown(\"https://play.pokemonshowdown.com/action.php\", \"PoryAI-0\", \"password\", \"ws://localhost:8000/showdown/websocket\", \"gen9randombattle\")\n",
    "\n",
    "await showdown.connectNoSecurity()\n",
    "await training_loop(newAgent, showdown, 1000)"
   ]
  },
  {
   "cell_type": "code",
   "execution_count": null,
   "metadata": {},
   "outputs": [],
   "source": [
    "# sd = showdown.Showdown(\"https://play.pokemonshowdown.com/action.php\", \"thisisatest12345\", \"password\", \"ws://localhost:8000/showdown/websocket\", \"gen9randombattle\")\n",
    "# tasks = set()\n",
    "# async with asyncio.TaskGroup() as tg:\n",
    "#     for i in range(1):\n",
    "#         sd = showdown.Showdown(\"https://play.pokemonshowdown.com/action.php\", \"PoryAI-\"+str(i), \"password\", \"ws://localhost:8000/showdown/websocket\", \"gen9randombattle\")\n",
    "#         task = tg.create_task(sd.run())\n",
    "#         tasks.add(task)\n",
    "\n",
    "# await asyncio.gather(*tg.tasks)\n",
    "\n",
    "# await sd.run()\n"
   ]
  },
  {
   "cell_type": "code",
   "execution_count": null,
   "metadata": {},
   "outputs": [],
   "source": []
  }
 ],
 "metadata": {
  "kernelspec": {
   "display_name": "base",
   "language": "python",
   "name": "python3"
  },
  "language_info": {
   "codemirror_mode": {
    "name": "ipython",
    "version": 3
   },
   "file_extension": ".py",
   "mimetype": "text/x-python",
   "name": "python",
   "nbconvert_exporter": "python",
   "pygments_lexer": "ipython3",
   "version": "3.11.7"
  }
 },
 "nbformat": 4,
 "nbformat_minor": 2
}

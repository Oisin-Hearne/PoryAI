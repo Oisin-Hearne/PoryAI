{
 "cells": [
  {
   "cell_type": "code",
   "execution_count": null,
   "metadata": {},
   "outputs": [],
   "source": [
    "import showdown\n",
    "import agent\n",
    "import asyncio\n",
    "import torch\n",
    "import json\n",
    "from IPython.display import clear_output"
   ]
  },
  {
   "cell_type": "code",
   "execution_count": null,
   "metadata": {},
   "outputs": [
    {
     "ename": "IndentationError",
     "evalue": "expected an indented block after 'for' statement on line 36 (2546821136.py, line 39)",
     "output_type": "error",
     "traceback": [
      "\u001b[1;36m  Cell \u001b[1;32mIn[1], line 39\u001b[1;36m\u001b[0m\n\u001b[1;33m    if battle % 10 == 0 and battle > 0:\u001b[0m\n\u001b[1;37m    ^\u001b[0m\n\u001b[1;31mIndentationError\u001b[0m\u001b[1;31m:\u001b[0m expected an indented block after 'for' statement on line 36\n"
     ]
    }
   ],
   "source": [
    "async def training_loop(agent, showdown, numBattles=5000):\n",
    "    agentWins = 0\n",
    "    agentLosses = 0\n",
    "    cumulativeRewards = 0\n",
    "    for battle in range(numBattles):\n",
    "        battleReward = -5\n",
    "        battleProgress = []\n",
    "        \n",
    "        \n",
    "        await showdown.restart()\n",
    "        battleDone = False\n",
    "        totalReward = 0\n",
    "        \n",
    "        while not battleDone:\n",
    "            state = showdown.getState()\n",
    "            \n",
    "            validActions = showdown.getValidActions()\n",
    "            action = agent.act(state, validActions)\n",
    "            nextState, reward, battleDone, winner = await showdown.executeAction(action)\n",
    "            print(f\"Action: {action}, Reward: {reward}\")\n",
    "            \n",
    "            battleProgress.append(state, action, reward, nextState, battleDone)\n",
    "            agent.replay()\n",
    "            totalReward += reward\n",
    "            cumulativeRewards += reward\n",
    "            \n",
    "            if battleDone:\n",
    "                print(f\"Battle {battle} done. Total reward: {totalReward}\")\n",
    "                if winner == 1:\n",
    "                    agentWins += 1 \n",
    "                    battleReward = 10\n",
    "                else:\n",
    "                    agentLosses += 1\n",
    "        \n",
    "        # Once the battle's done...\n",
    "        for i, (state, action, reward, nextState, done) in enumerate(battleProgress):\n",
    "            # Adjust the reward based on how the battle went.\n",
    "            adjustedReward = reward + (battleReward / (len(battleProgress)))\n",
    "            agent.remember(state, action, adjustedReward, nextState, done)\n",
    "        \n",
    "        agent.replay()        \n",
    "        \n",
    "        if battle % 10 == 0 and battle > 0:\n",
    "            clear_output(wait=True)\n",
    "            print(f\"Cleared Output! Current Stats: \\n Wins: {agentWins} \\n Losses: {agentLosses} \\n Cumulative Rewards: {cumulativeRewards} \\n Battles: {battle} \\n Epsilon: {agent.epsilon}\")\n",
    "        if battle % 50 == 0 and battle > 0:\n",
    "            agent.saveModel(f\"data/models/model_{battle}.pt\")\n",
    "            agent.saveMemory(f\"data/memory/memory_{battle}.json\")\n",
    "            f = open(f\"data/stats/{battle}.json\", \"w\")\n",
    "            f.write(json.dumps({\"wins\": agentWins, \"losses\": agentLosses, \"rewards\": cumulativeRewards}))\n",
    "            f.close()\n",
    "            \n",
    "            # Reset Epsilon\n",
    "            agent.epsilon = max(agent.epsilon, 0.3)\n",
    "            \n",
    "        \n",
    "        "
   ]
  },
  {
   "cell_type": "code",
   "execution_count": null,
   "metadata": {},
   "outputs": [],
   "source": [
    "\n",
    "device = torch.device(\"cuda\" if torch.cuda.is_available() else \"cpu\")\n",
    "stateSize = 671\n",
    "\n",
    "possibleActions = json.load(open(\"data/possible_actions.json\", \"r\"))\n",
    "actionSize = len(possibleActions)\n",
    "\n",
    "newAgent = agent.Agent(stateSize, actionSize, device, possibleActions)\n",
    "newAgent.loadModel(\"data/models/model_450.pt\")\n",
    "newAgent.loadMemory(\"data/memory/memory_450.json\")\n",
    "\n",
    "showdown = showdown.Showdown(\"https://play.pokemonshowdown.com/action.php\", \"PoryAI-0\", \"password\", \"ws://localhost:8000/showdown/websocket\", \"gen9randombattle\")\n",
    "\n",
    "await showdown.connectNoSecurity()\n",
    "await training_loop(newAgent, showdown, 10000)"
   ]
  },
  {
   "cell_type": "code",
   "execution_count": null,
   "metadata": {},
   "outputs": [],
   "source": [
    "# sd = showdown.Showdown(\"https://play.pokemonshowdown.com/action.php\", \"thisisatest12345\", \"password\", \"ws://localhost:8000/showdown/websocket\", \"gen9randombattle\")\n",
    "# tasks = set()\n",
    "# async with asyncio.TaskGroup() as tg:\n",
    "#     for i in range(1):\n",
    "#         sd = showdown.Showdown(\"https://play.pokemonshowdown.com/action.php\", \"PoryAI-\"+str(i), \"password\", \"ws://localhost:8000/showdown/websocket\", \"gen9randombattle\")\n",
    "#         task = tg.create_task(sd.run())\n",
    "#         tasks.add(task)\n",
    "\n",
    "# await asyncio.gather(*tg.tasks)\n",
    "\n",
    "# await sd.run()\n"
   ]
  },
  {
   "cell_type": "code",
   "execution_count": null,
   "metadata": {},
   "outputs": [],
   "source": []
  }
 ],
 "metadata": {
  "kernelspec": {
   "display_name": "base",
   "language": "python",
   "name": "python3"
  },
  "language_info": {
   "codemirror_mode": {
    "name": "ipython",
    "version": 3
   },
   "file_extension": ".py",
   "mimetype": "text/x-python",
   "name": "python",
   "nbconvert_exporter": "python",
   "pygments_lexer": "ipython3",
   "version": "3.11.7"
  }
 },
 "nbformat": 4,
 "nbformat_minor": 2
}
